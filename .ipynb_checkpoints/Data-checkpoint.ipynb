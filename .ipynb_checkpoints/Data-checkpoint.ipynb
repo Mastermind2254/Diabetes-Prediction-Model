{
 "cells": [
  {
   "cell_type": "code",
   "execution_count": null,
   "id": "7e2fdf56-5cd0-43a1-95df-805679a60d60",
   "metadata": {},
   "outputs": [],
   "source": [
    "import numpy as np\n",
    "import pandas as pd\n",
    "import matplotlib.pyplot as plt\n",
    "\n",
    "df=pd.read_csv('diabetes.csv')\n",
    "\n",
    "if '__name__'=='__main__':\n",
    "    df.head()\n",
    "\n",
    "    print(df.dtypes)\n",
    "    print(\"\\nShape = \",df.shape)\n",
    "\n",
    "    print(df.info())\n",
    "\n",
    "    print(df.describe())\n",
    "\n",
    "    df.isnull().sum()\n",
    "\n",
    "    #df_new=df[(df[1]!=0) & (df[2]!=0) & (df[3]!=0) & (df[5]!=0)]\n",
    "    df_new = df[(df[['Glucose','BloodPressure','SkinThickness','BMI']] != 0).all(axis=1)]\n",
    "    X=df_new.drop(columns=['Outcome']).to_numpy()\n",
    "    Y=df_new['Outcome'].to_numpy()\n",
    "\n",
    "    #Histogram of all features vs number of examples\n",
    "    try:\n",
    "        for i in list(df.columns):\n",
    "            plt.hist(X[:,df.columns.get_loc(i)],bins=27,edgecolor='black')\n",
    "            plt.xlabel(f\"Range of {i}\")\n",
    "            plt.ylabel(\"Number of people\")\n",
    "            plt.show()\n",
    "    except IndexError:\n",
    "        pass\n",
    "\n",
    "    #Scatter Plot of two major features\n",
    "    plt.scatter(X[Y==0][:,1],X[Y==0][:,5])\n",
    "    plt.scatter(X[Y==1][:,1],X[Y==1][:,5])\n",
    "    plt.xlabel('Glucose Level')\n",
    "    plt.ylabel('BMI')\n",
    "    plt.show()"
   ]
  }
 ],
 "metadata": {
  "kernelspec": {
   "display_name": "Python 3 (ipykernel)",
   "language": "python",
   "name": "python3"
  },
  "language_info": {
   "codemirror_mode": {
    "name": "ipython",
    "version": 3
   },
   "file_extension": ".py",
   "mimetype": "text/x-python",
   "name": "python",
   "nbconvert_exporter": "python",
   "pygments_lexer": "ipython3",
   "version": "3.10.12"
  }
 },
 "nbformat": 4,
 "nbformat_minor": 5
}
