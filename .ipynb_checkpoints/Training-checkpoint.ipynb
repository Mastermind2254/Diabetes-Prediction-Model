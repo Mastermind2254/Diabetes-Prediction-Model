{
 "cells": [
  {
   "cell_type": "code",
   "execution_count": 81,
   "id": "c787e619-95d3-4b30-8a19-ea43c6e86287",
   "metadata": {},
   "outputs": [],
   "source": [
    "import numpy as np\n",
    "import pandas as pd\n",
    "import matplotlib.pyplot as plt\n",
    "from Data import df"
   ]
  },
  {
   "cell_type": "code",
   "execution_count": 84,
   "id": "a1a1b9c0-ed0d-40de-95b6-f77da0d6588c",
   "metadata": {},
   "outputs": [
    {
     "name": "stdout",
     "output_type": "stream",
     "text": [
      "The shape of X:  (532, 8)\n",
      "The shape of Y:  (532,)\n"
     ]
    }
   ],
   "source": [
    "#!/usr/bin/env python\n",
    "# coding: utf-8\n",
    "\n",
    "# In[14]:\n",
    "\n",
    "\n",
    "import numpy as np\n",
    "import pandas as pd\n",
    "import matplotlib.pyplot as plt\n",
    "from Data import df\n",
    "\n",
    "\n",
    "# In[15]:\n",
    "\n",
    "\n",
    "#df_new=df[(df[1]!=0) & (df[2]!=0) & (df[3]!=0) & (df[5]!=0)]\n",
    "df_new = df[(df[['Glucose','BloodPressure','SkinThickness','BMI']] != 0).all(axis=1)]\n",
    "\n",
    "\n",
    "# In[16]:\n",
    "\n",
    "\n",
    "X=df_new.drop(columns=['Outcome']).to_numpy()\n",
    "Y=df_new['Outcome'].to_numpy()\n",
    "\n",
    "\n",
    "# In[17]:\n",
    "\n",
    "\n",
    "print(\"The shape of X: \",X.shape)\n",
    "print(\"The shape of Y: \",Y.shape)\n",
    "\n",
    "\n",
    "# In[18]:\n",
    "X_poly = np.hstack([X, X**2, X**3, X**4, X**5])\n",
    "\n",
    "#Feature Scaling\n",
    "nu=np.mean(X_poly,axis=0)\n",
    "X_norm=(X_poly-(nu.T))/(np.max(X_poly,axis=0)-np.min(X_poly,axis=0))\n",
    "\n",
    "\n",
    "# In[19]:\n",
    "\n",
    "\n",
    "#Training set split\n",
    "X_train=X_norm[:int(0.6*532),:]\n",
    "Y_train=Y[:int(0.6*532)]\n",
    "X_cv=X_norm[int(0.6*532):int(0.8*532),:]\n",
    "Y_cv=Y[int(0.6*532):int(0.8*532)]\n",
    "X_test=X_norm[int(0.8*532):,:]\n",
    "Y_test=Y[int(0.8*532):]"
   ]
  },
  {
   "cell_type": "code",
   "execution_count": 85,
   "id": "68699a89-b355-4c15-a3df-dd179ecda3d8",
   "metadata": {},
   "outputs": [],
   "source": [
    "def sigmoid(z):\n",
    "    f_wb=(1/(1+np.exp(-z)))\n",
    "    return f_wb"
   ]
  },
  {
   "cell_type": "code",
   "execution_count": 86,
   "id": "48a39826-0412-45f3-910e-b48fabf04952",
   "metadata": {},
   "outputs": [],
   "source": [
    "def cost_func(X_train,Y_train,W,b,lambda_):\n",
    "    m,n=X_train.shape\n",
    "    cost=0\n",
    "    for i in range(m):\n",
    "        z=np.dot(W,X_train[i,:])+b\n",
    "        f_wb=sigmoid(z)\n",
    "        cost+=Y_train[i]*np.log(f_wb)+(1-Y_train[i])*np.log(1-f_wb)\n",
    "    reg=(lambda_/(2*m))*np.sum(W**2)\n",
    "    cost=(-1/m)*cost\n",
    "    cost=cost+reg\n",
    "    return cost"
   ]
  },
  {
   "cell_type": "code",
   "execution_count": 87,
   "id": "ebaa6581-dda2-44a1-9532-c98bcdbb87aa",
   "metadata": {},
   "outputs": [],
   "source": [
    "def gradient(X_train,Y_train,W,b,lambda_):\n",
    "    m=X_train.shape[0]\n",
    "    dw=0\n",
    "    db=0\n",
    "    for i in range(m):\n",
    "        z=np.dot(W,X_train[i,:])+b\n",
    "        f_wb=sigmoid(z)\n",
    "        dw+=(f_wb-Y_train[i])*X_train[i,:]\n",
    "        db+=(f_wb-Y_train[i])\n",
    "    dw=((1/m)*dw)+(lambda_/m)*W\n",
    "    db=(1/m)*db\n",
    "    return dw,db"
   ]
  },
  {
   "cell_type": "code",
   "execution_count": 88,
   "id": "7b561966-fb64-47cd-9e39-e03cf269534c",
   "metadata": {},
   "outputs": [],
   "source": [
    "def model(X_train,Y_train,W,b,alpha,lambda_,it):\n",
    "    Wf=W\n",
    "    bf=b\n",
    "    for i in range(it):\n",
    "        dw1,db1=gradient(X_train,Y_train,Wf,bf,lambda_)\n",
    "        Wf=Wf-(alpha*dw1)\n",
    "        bf=bf-(alpha*db1)\n",
    "    return Wf,bf"
   ]
  },
  {
   "cell_type": "code",
   "execution_count": 100,
   "id": "1a5999e1-145c-4344-aea9-76830ef9669c",
   "metadata": {},
   "outputs": [],
   "source": [
    "W=np.zeros(X_poly.shape[1])\n",
    "b=0\n",
    "alpha=0.00001\n",
    "iterations=1000\n",
    "lambda_=1\n",
    "predict=0\n",
    "W_new,b_new=model(X_train,Y_train,W,b,alpha,lambda_,iterations)"
   ]
  },
  {
   "cell_type": "code",
   "execution_count": 101,
   "id": "8f0e6319-01a2-4ed6-a16c-325cf8e2af0c",
   "metadata": {},
   "outputs": [
    {
     "name": "stdout",
     "output_type": "stream",
     "text": [
      "0.6927797584277368\n",
      "0.6925919475088838\n",
      "0.6927656178773322\n",
      "0.6931471805599467\n"
     ]
    }
   ],
   "source": [
    "m_train=X_train.shape[0]\n",
    "m_cv=X_cv.shape[0]\n",
    "m_test=X_test.shape[0]\n",
    "z_train=np.dot(W_new,X_train.T)+b_new\n",
    "Y_hat_train=sigmoid(z_train)\n",
    "z_cv=np.dot(W_new,X_cv.T)+b_new\n",
    "Y_hat_cv=sigmoid(z_cv)\n",
    "z_test=np.dot(W_new,X_test.T)+b_new\n",
    "Y_hat_test=sigmoid(z_test)\n",
    "J_train=(-1/m_train)*np.sum(Y_train*np.log(Y_hat_train)+(1-Y_train)*np.log(1-Y_hat_train))\n",
    "J_cv=(-1/m_cv)*np.sum(Y_cv*np.log(Y_hat_cv)+(1-Y_cv)*np.log(1-Y_hat_cv))\n",
    "J_test=(-1/m_test)*np.sum(Y_test*np.log(Y_hat_test)+(1-Y_test)*np.log(1-Y_hat_test))\n",
    "print(J_train)\n",
    "print(J_cv)\n",
    "print(J_test)\n",
    "print(cost_func(X_train,Y_train,W,b,lambda_))"
   ]
  },
  {
   "cell_type": "code",
   "execution_count": 51,
   "id": "b038d638-1b28-49bf-87c5-5f9ffedeb8fe",
   "metadata": {},
   "outputs": [
    {
     "name": "stdin",
     "output_type": "stream",
     "text": [
      "Enter the feature list:  []\n"
     ]
    },
    {
     "ename": "ValueError",
     "evalue": "could not convert string to float: '[]'",
     "output_type": "error",
     "traceback": [
      "\u001b[0;31m---------------------------------------------------------------------------\u001b[0m",
      "\u001b[0;31mValueError\u001b[0m                                Traceback (most recent call last)",
      "Cell \u001b[0;32mIn[51], line 2\u001b[0m\n\u001b[1;32m      1\u001b[0m user_input\u001b[38;5;241m=\u001b[39m\u001b[38;5;28minput\u001b[39m(\u001b[38;5;124m\"\u001b[39m\u001b[38;5;124mEnter the feature list: \u001b[39m\u001b[38;5;124m\"\u001b[39m)\n\u001b[0;32m----> 2\u001b[0m X_new\u001b[38;5;241m=\u001b[39mnp\u001b[38;5;241m.\u001b[39marray([\u001b[38;5;28mfloat\u001b[39m(i) \u001b[38;5;28;01mfor\u001b[39;00m i \u001b[38;5;129;01min\u001b[39;00m user_input\u001b[38;5;241m.\u001b[39msplit(\u001b[38;5;124m'\u001b[39m\u001b[38;5;124m,\u001b[39m\u001b[38;5;124m'\u001b[39m)])\n\u001b[1;32m      3\u001b[0m z\u001b[38;5;241m=\u001b[39mnp\u001b[38;5;241m.\u001b[39mdot(W_new,X_new)\u001b[38;5;241m+\u001b[39mb_new\n\u001b[1;32m      4\u001b[0m Y_hat\u001b[38;5;241m=\u001b[39msigmoid(z)\n",
      "Cell \u001b[0;32mIn[51], line 2\u001b[0m, in \u001b[0;36m<listcomp>\u001b[0;34m(.0)\u001b[0m\n\u001b[1;32m      1\u001b[0m user_input\u001b[38;5;241m=\u001b[39m\u001b[38;5;28minput\u001b[39m(\u001b[38;5;124m\"\u001b[39m\u001b[38;5;124mEnter the feature list: \u001b[39m\u001b[38;5;124m\"\u001b[39m)\n\u001b[0;32m----> 2\u001b[0m X_new\u001b[38;5;241m=\u001b[39mnp\u001b[38;5;241m.\u001b[39marray([\u001b[38;5;28;43mfloat\u001b[39;49m\u001b[43m(\u001b[49m\u001b[43mi\u001b[49m\u001b[43m)\u001b[49m \u001b[38;5;28;01mfor\u001b[39;00m i \u001b[38;5;129;01min\u001b[39;00m user_input\u001b[38;5;241m.\u001b[39msplit(\u001b[38;5;124m'\u001b[39m\u001b[38;5;124m,\u001b[39m\u001b[38;5;124m'\u001b[39m)])\n\u001b[1;32m      3\u001b[0m z\u001b[38;5;241m=\u001b[39mnp\u001b[38;5;241m.\u001b[39mdot(W_new,X_new)\u001b[38;5;241m+\u001b[39mb_new\n\u001b[1;32m      4\u001b[0m Y_hat\u001b[38;5;241m=\u001b[39msigmoid(z)\n",
      "\u001b[0;31mValueError\u001b[0m: could not convert string to float: '[]'"
     ]
    }
   ],
   "source": [
    "user_input=input(\"Enter the feature list: \")\n",
    "X_new=np.array([float(i) for i in user_input.split(',')])\n",
    "z=np.dot(W_new,X_new)+b_new\n",
    "Y_hat=sigmoid(z)\n",
    "if Y_hat>=0.5:\n",
    "    predict=1\n",
    "elif Y_hat<0.5:\n",
    "    predict=0\n",
    "print(Y_hat)\n",
    "print(f\"Prediction: {predict}\")"
   ]
  },
  {
   "cell_type": "code",
   "execution_count": null,
   "id": "6d38547b-8089-45d6-9dc4-873e0116ae5b",
   "metadata": {},
   "outputs": [],
   "source": []
  }
 ],
 "metadata": {
  "kernelspec": {
   "display_name": "Python 3 (ipykernel)",
   "language": "python",
   "name": "python3"
  },
  "language_info": {
   "codemirror_mode": {
    "name": "ipython",
    "version": 3
   },
   "file_extension": ".py",
   "mimetype": "text/x-python",
   "name": "python",
   "nbconvert_exporter": "python",
   "pygments_lexer": "ipython3",
   "version": "3.10.12"
  }
 },
 "nbformat": 4,
 "nbformat_minor": 5
}
