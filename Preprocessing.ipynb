{
 "cells": [
  {
   "cell_type": "code",
   "execution_count": 14,
   "id": "40ef4223-3528-453e-b985-b8a3f89886a6",
   "metadata": {},
   "outputs": [],
   "source": [
    "import numpy as np\n",
    "import pandas as pd\n",
    "import matplotlib.pyplot as plt\n",
    "from Data import df"
   ]
  },
  {
   "cell_type": "code",
   "execution_count": 15,
   "id": "2d915c83-7175-4073-ba8d-f4a7e4a77f46",
   "metadata": {},
   "outputs": [],
   "source": [
    "#df_new=df[(df[1]!=0) & (df[2]!=0) & (df[3]!=0) & (df[5]!=0)]\n",
    "df_new = df[(df[['Glucose','BloodPressure','SkinThickness','BMI']] != 0).all(axis=1)]"
   ]
  },
  {
   "cell_type": "code",
   "execution_count": 16,
   "id": "232a528f-902c-4184-9af8-d745a02f17f7",
   "metadata": {},
   "outputs": [],
   "source": [
    "X=df_new.drop(columns=['Outcome']).to_numpy()\n",
    "Y=df_new['Outcome'].to_numpy()"
   ]
  },
  {
   "cell_type": "code",
   "execution_count": 17,
   "id": "eafff3bb-df8d-4c2e-9fb1-0ad30a724ef8",
   "metadata": {},
   "outputs": [
    {
     "name": "stdout",
     "output_type": "stream",
     "text": [
      "The shape of X:  (532, 8)\n",
      "The shape of Y:  (532,)\n"
     ]
    }
   ],
   "source": [
    "print(\"The shape of X: \",X.shape)\n",
    "print(\"The shape of Y: \",Y.shape)"
   ]
  },
  {
   "cell_type": "code",
   "execution_count": 18,
   "id": "1146582f-88e4-4b13-962e-ad21ce7ad967",
   "metadata": {},
   "outputs": [
    {
     "name": "stdout",
     "output_type": "stream",
     "text": [
      "[[ 1.46063689e-01  1.88600873e-01  5.74838258e-03 ...  1.45148146e-02\n",
      "   5.31194152e-02  3.06422306e-01]\n",
      " [-1.48053958e-01 -2.51958568e-01 -6.40190593e-02 ... -1.28634470e-01\n",
      "  -6.50818696e-02 -1.02443609e-02]\n",
      " [-1.48053958e-01 -2.23986540e-01 -6.40190593e-02 ... -9.79596230e-02\n",
      "  -1.43882726e-01 -1.76911028e-01]\n",
      " ...\n",
      " [-8.92304290e-02  6.78269099e-03 -1.75074314e-02 ...  7.99544874e-02\n",
      "  -6.97927903e-02 -7.69110276e-02]\n",
      " [ 8.72401592e-02 -2.10316000e-04  5.74838258e-03 ... -1.36814429e-01\n",
      "  -1.10478015e-01 -2.69110276e-02]\n",
      " [-1.48053958e-01 -1.96014512e-01 -1.75074314e-02 ... -5.09248582e-02\n",
      "  -8.04994284e-02 -1.43577694e-01]]\n"
     ]
    }
   ],
   "source": [
    "#Feature Scaling\n",
    "nu=np.mean(X,axis=0)\n",
    "X_norm=(X-(nu.T))/(np.max(X,axis=0)-np.min(X,axis=0))\n",
    "print(X_norm)"
   ]
  },
  {
   "cell_type": "code",
   "execution_count": 19,
   "id": "d73919b2-e74d-4a21-93b7-b18545220c12",
   "metadata": {},
   "outputs": [],
   "source": [
    "#Training set split\n",
    "X_train=X_norm[:int(0.6*532),:]\n",
    "Y_train=Y[:int(0.6*532)]\n",
    "X_cv=X_norm[int(0.6*532):int(0.8*532),:]\n",
    "Y_cv=Y[int(0.6*532):int(0.8*532)]\n",
    "X_test=X_norm[int(0.8*532):,:]\n",
    "Y_test=Y[int(0.8*532):]"
   ]
  }
 ],
 "metadata": {
  "kernelspec": {
   "display_name": "Python 3 (ipykernel)",
   "language": "python",
   "name": "python3"
  },
  "language_info": {
   "codemirror_mode": {
    "name": "ipython",
    "version": 3
   },
   "file_extension": ".py",
   "mimetype": "text/x-python",
   "name": "python",
   "nbconvert_exporter": "python",
   "pygments_lexer": "ipython3",
   "version": "3.10.12"
  }
 },
 "nbformat": 4,
 "nbformat_minor": 5
}
