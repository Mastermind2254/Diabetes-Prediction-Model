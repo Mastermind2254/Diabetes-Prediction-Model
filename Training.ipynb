{
 "cells": [
  {
   "cell_type": "code",
   "execution_count": 81,
   "id": "c787e619-95d3-4b30-8a19-ea43c6e86287",
   "metadata": {},
   "outputs": [],
   "source": [
    "import numpy as np\n",
    "import pandas as pd\n",
    "import matplotlib.pyplot as plt\n",
    "from Data import df"
   ]
  },
  {
   "cell_type": "code",
   "execution_count": 119,
   "id": "a1a1b9c0-ed0d-40de-95b6-f77da0d6588c",
   "metadata": {},
   "outputs": [
    {
     "name": "stdout",
     "output_type": "stream",
     "text": [
      "The shape of X:  (532, 8)\n",
      "The shape of Y:  (532,)\n"
     ]
    }
   ],
   "source": [
    "#!/usr/bin/env python\n",
    "# coding: utf-8\n",
    "\n",
    "# In[14]:\n",
    "\n",
    "\n",
    "import numpy as np\n",
    "import pandas as pd\n",
    "import matplotlib.pyplot as plt\n",
    "from Data import df\n",
    "\n",
    "\n",
    "# In[15]:\n",
    "\n",
    "\n",
    "#df_new=df[(df[1]!=0) & (df[2]!=0) & (df[3]!=0) & (df[5]!=0)]\n",
    "df_new = df[(df[['Glucose','BloodPressure','SkinThickness','BMI']] != 0).all(axis=1)]\n",
    "\n",
    "\n",
    "# In[16]:\n",
    "\n",
    "\n",
    "X=df_new.drop(columns=['Outcome']).to_numpy()\n",
    "Y=df_new['Outcome'].to_numpy()\n",
    "\n",
    "\n",
    "# In[17]:\n",
    "\n",
    "\n",
    "print(\"The shape of X: \",X.shape)\n",
    "print(\"The shape of Y: \",Y.shape)\n",
    "\n",
    "\n",
    "# In[18]:\n",
    "X_poly = np.hstack([X, X**2, X**3, X**4, X**5])\n",
    "\n",
    "#Feature Scaling\n",
    "nu=np.mean(X_poly,axis=0)\n",
    "X_norm=(X_poly-(nu.T))/(np.max(X_poly,axis=0)-np.min(X_poly,axis=0))\n",
    "range_poly=np.max(X_poly,axis=0)-np.min(X_poly,axis=0)\n",
    "\n",
    "# In[19]:\n",
    "\n",
    "\n",
    "#Training set split\n",
    "X_train=X_norm[:int(0.6*532),:]\n",
    "Y_train=Y[:int(0.6*532)]\n",
    "X_cv=X_norm[int(0.6*532):int(0.8*532),:]\n",
    "Y_cv=Y[int(0.6*532):int(0.8*532)]\n",
    "X_test=X_norm[int(0.8*532):,:]\n",
    "Y_test=Y[int(0.8*532):]"
   ]
  },
  {
   "cell_type": "code",
   "execution_count": 85,
   "id": "68699a89-b355-4c15-a3df-dd179ecda3d8",
   "metadata": {},
   "outputs": [],
   "source": [
    "def sigmoid(z):\n",
    "    f_wb=(1/(1+np.exp(-z)))\n",
    "    return f_wb"
   ]
  },
  {
   "cell_type": "code",
   "execution_count": 86,
   "id": "48a39826-0412-45f3-910e-b48fabf04952",
   "metadata": {},
   "outputs": [],
   "source": [
    "def cost_func(X_train,Y_train,W,b,lambda_):\n",
    "    m,n=X_train.shape\n",
    "    cost=0\n",
    "    for i in range(m):\n",
    "        z=np.dot(W,X_train[i,:])+b\n",
    "        f_wb=sigmoid(z)\n",
    "        cost+=Y_train[i]*np.log(f_wb)+(1-Y_train[i])*np.log(1-f_wb)\n",
    "    reg=(lambda_/(2*m))*np.sum(W**2)\n",
    "    cost=(-1/m)*cost\n",
    "    cost=cost+reg\n",
    "    return cost"
   ]
  },
  {
   "cell_type": "code",
   "execution_count": 87,
   "id": "ebaa6581-dda2-44a1-9532-c98bcdbb87aa",
   "metadata": {},
   "outputs": [],
   "source": [
    "def gradient(X_train,Y_train,W,b,lambda_):\n",
    "    m=X_train.shape[0]\n",
    "    dw=0\n",
    "    db=0\n",
    "    for i in range(m):\n",
    "        z=np.dot(W,X_train[i,:])+b\n",
    "        f_wb=sigmoid(z)\n",
    "        dw+=(f_wb-Y_train[i])*X_train[i,:]\n",
    "        db+=(f_wb-Y_train[i])\n",
    "    dw=((1/m)*dw)+(lambda_/m)*W\n",
    "    db=(1/m)*db\n",
    "    return dw,db"
   ]
  },
  {
   "cell_type": "code",
   "execution_count": 88,
   "id": "7b561966-fb64-47cd-9e39-e03cf269534c",
   "metadata": {},
   "outputs": [],
   "source": [
    "def model(X_train,Y_train,W,b,alpha,lambda_,it):\n",
    "    Wf=W\n",
    "    bf=b\n",
    "    for i in range(it):\n",
    "        dw1,db1=gradient(X_train,Y_train,Wf,bf,lambda_)\n",
    "        Wf=Wf-(alpha*dw1)\n",
    "        bf=bf-(alpha*db1)\n",
    "    return Wf,bf"
   ]
  },
  {
   "cell_type": "code",
   "execution_count": 108,
   "id": "1a5999e1-145c-4344-aea9-76830ef9669c",
   "metadata": {},
   "outputs": [],
   "source": [
    "W=np.zeros(X_poly.shape[1])\n",
    "b=0\n",
    "alpha=0.01\n",
    "iterations=10000\n",
    "lambda_=0.01\n",
    "predict=0\n",
    "W_new,b_new=model(X_train,Y_train,W,b,alpha,lambda_,iterations)"
   ]
  },
  {
   "cell_type": "code",
   "execution_count": 109,
   "id": "8f0e6319-01a2-4ed6-a16c-325cf8e2af0c",
   "metadata": {},
   "outputs": [
    {
     "name": "stdout",
     "output_type": "stream",
     "text": [
      "J_train:  0.4837535932542776\n",
      "J_cv:  0.39707996835358317\n",
      "J_test:  0.43770827116957267\n",
      "The cost:  0.48389055782572843\n"
     ]
    }
   ],
   "source": [
    "m_train=X_train.shape[0]\n",
    "m_cv=X_cv.shape[0]\n",
    "m_test=X_test.shape[0]\n",
    "z_train=np.dot(W_new,X_train.T)+b_new\n",
    "Y_hat_train=sigmoid(z_train)\n",
    "z_cv=np.dot(W_new,X_cv.T)+b_new\n",
    "Y_hat_cv=sigmoid(z_cv)\n",
    "z_test=np.dot(W_new,X_test.T)+b_new\n",
    "Y_hat_test=sigmoid(z_test)\n",
    "J_train=(-1/m_train)*np.sum(Y_train*np.log(Y_hat_train)+(1-Y_train)*np.log(1-Y_hat_train))\n",
    "J_cv=(-1/m_cv)*np.sum(Y_cv*np.log(Y_hat_cv)+(1-Y_cv)*np.log(1-Y_hat_cv))\n",
    "J_test=(-1/m_test)*np.sum(Y_test*np.log(Y_hat_test)+(1-Y_test)*np.log(1-Y_hat_test))\n",
    "print(\"J_train: \",J_train)\n",
    "print(\"J_cv: \",J_cv)\n",
    "print(\"J_test: \",J_test)\n",
    "print(\"The cost: \",cost_func(X_train,Y_train,W_new,b_new,lambda_))"
   ]
  },
  {
   "cell_type": "code",
   "execution_count": 129,
   "id": "b038d638-1b28-49bf-87c5-5f9ffedeb8fe",
   "metadata": {},
   "outputs": [
    {
     "name": "stdin",
     "output_type": "stream",
     "text": [
      "Enter the feature list (comma separated):  3,25,82,31,70,34.2,1.292,27\n"
     ]
    },
    {
     "name": "stdout",
     "output_type": "stream",
     "text": [
      "Probability: 0.1291\n",
      "Prediction: Non-Diabetic\n"
     ]
    }
   ],
   "source": [
    "'''user_input=input(\"Enter the feature list: \")\n",
    "X_new=np.array([float(i) for i in user_input.split(',')])\n",
    "X_poly_new = np.hstack([X_new, X_new**2, X_new**3, X_new**4, X_new**5])\n",
    "X_norm=(X_poly_new-(nu.T))/(np.max(X_poly,axis=0)-np.min(X_poly,axis=0))\n",
    "z=np.dot(W_new,X_poly_new.T)+b_new\n",
    "Y_hat=sigmoid(z)\n",
    "if Y_hat>=0.5:\n",
    "    predict=1\n",
    "elif Y_hat<0.5:\n",
    "    predict=0\n",
    "print(Y_hat)\n",
    "print(f\"Prediction: {predict}\")'''\n",
    "\n",
    "user_input = input(\"Enter the feature list (comma separated): \")\n",
    "X_new = np.array([float(i) for i in user_input.split(',')]).reshape(1, -1)\n",
    "\n",
    "# Polynomial expansion\n",
    "X_poly_new = np.hstack([X_new, X_new**2, X_new**3, X_new**4, X_new**5])\n",
    "\n",
    "# Normalize with training stats\n",
    "X_norm = (X_poly_new - nu) / (range_poly + 1e-8)\n",
    "\n",
    "# Prediction\n",
    "z = np.dot(X_norm, W_new) + b_new\n",
    "Y_hat = sigmoid(z)\n",
    "predict = Y_hat >= 0.5\n",
    "\n",
    "print(f\"Probability: {Y_hat.item():.4f}\")\n",
    "print(f\"Prediction: {'Diabetic' if predict == 1 else 'Non-Diabetic'}\")"
   ]
  },
  {
   "cell_type": "code",
   "execution_count": null,
   "id": "6d38547b-8089-45d6-9dc4-873e0116ae5b",
   "metadata": {},
   "outputs": [],
   "source": []
  },
  {
   "cell_type": "code",
   "execution_count": null,
   "id": "44e2538f-bab9-43f3-94fe-2d36a9d964d1",
   "metadata": {},
   "outputs": [],
   "source": []
  }
 ],
 "metadata": {
  "kernelspec": {
   "display_name": "Python 3 (ipykernel)",
   "language": "python",
   "name": "python3"
  },
  "language_info": {
   "codemirror_mode": {
    "name": "ipython",
    "version": 3
   },
   "file_extension": ".py",
   "mimetype": "text/x-python",
   "name": "python",
   "nbconvert_exporter": "python",
   "pygments_lexer": "ipython3",
   "version": "3.10.12"
  }
 },
 "nbformat": 4,
 "nbformat_minor": 5
}
